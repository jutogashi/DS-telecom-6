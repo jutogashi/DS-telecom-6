{
  "nbformat": 4,
  "nbformat_minor": 0,
  "metadata": {
    "colab": {
      "name": "tp_deep_learning_cnn_part_3_for_students.ipynb",
      "provenance": [],
      "collapsed_sections": []
    },
    "kernelspec": {
      "name": "python3",
      "display_name": "Python 3"
    },
    "language_info": {
      "name": "python"
    },
    "accelerator": "GPU"
  },
  "cells": [
    {
      "cell_type": "markdown",
      "metadata": {
        "id": "mPf2yufekv0f"
      },
      "source": [
        "\n",
        "# TP CNN, part 3 : super-resolution\n",
        "\n",
        "Author : Alasdair Newson\n",
        "alasdair.newson@telecom-paris.fr\n",
        " \n",
        "## Objective:\n",
        "\n",
        "We want to implement a Convolutional Neural Network (CNN) to do image super-resolution.\n",
        "\n",
        "## Image super-resolution:\n",
        "\n",
        "The super-resolution problem can be summarised as follows. We have an image as an input, which is defined over a grid $\\{0,1,\\dots, m-1\\} \\times \\{0,1,\\dots, n-1\\}$. We define a factor $\\delta$, by which we upsample the image. The output of the super-resolution is an image defined on the grid $\\{0,\\frac{1}{\\delta},\\dots, m-1\\} \\times \\{0,\\frac{1}{\\delta},\\dots, n-1\\}$.\n",
        "\n",
        "## Model\n",
        "\n",
        "In this part of the TP, you have complete freedom to create any model you want, as long as the input is an image, and the output is also an image of size $\\delta m \\times \\delta n$. You will have to choose the architecture and loss which seems reasonable to you.\n",
        "\n",
        "To help you, here is a function to upsample images in neural networks :\n",
        "\n",
        "- ```from tensorflow.keras.layers import UpSampling2D```\n",
        "\n",
        "Of course, you can use any upsampling layer you wish. \n",
        "\n",
        "## Dataset\n",
        "\n",
        "We will be using the mnist dataset for this part. This is to ensure that you can obtain good results. The input data should be the subsampled version of the mnist images, subsampled by taking one out of every $\\delta$ pixels. The output data should be the normal-resolution mnist images.\n",
        "\n",
        "__IMPORTANT NOTES:__\n",
        "- Think carefully about what the training data and labels are in this case, and create them accordingly\n",
        "- We will use ```n_max=5000``` to limit the number of datapoints (as in part 1) to go faster\n",
        "- We set $\\delta$ to 2 in this TP, because it is not too difficult to create a network that works with this factor. If you change it, it might be more difficult to create a satisfactory network.\n",
        "\n",
        "# Your task:\n",
        "You have to load the mnist data (see the first part of the TP), create the model, train it, and evaluate and display the results.\n",
        "\n",
        "We have created a function ```super_res_interpolate```, which carries out super-resolution using basic interpolation (bilinear or bicubic), with which you can compare your results visually and numerically.\n",
        "\n"
      ]
    },
    {
      "cell_type": "code",
      "metadata": {
        "id": "5utO2_UDyKs3",
        "colab": {
          "base_uri": "https://localhost:8080/"
        },
        "outputId": "7125948c-63db-47bd-dd35-e85ba296c329"
      },
      "source": [
        "\n",
        "# # Load packages\n",
        "\n",
        "%matplotlib inline\n",
        "import matplotlib.pyplot as plt\n",
        "import numpy as np\n",
        "\n",
        "import tensorflow as tf\n",
        "from tensorflow.keras.utils import to_categorical\n",
        "\n",
        "from tensorflow.keras.models import Sequential, Model\n",
        "from tensorflow.keras.layers import Dense, Dropout, Activation, Flatten, Input, Reshape\n",
        "from tensorflow.keras.layers import Conv2D, MaxPooling2D, UpSampling2D,Conv2DTranspose,ZeroPadding2D\n",
        "from tensorflow.keras import optimizers\n",
        "from scipy import interpolate\n",
        "print(tf.keras.__version__)"
      ],
      "execution_count": 1,
      "outputs": [
        {
          "output_type": "stream",
          "name": "stdout",
          "text": [
            "2.6.0\n"
          ]
        }
      ]
    },
    {
      "cell_type": "markdown",
      "metadata": {
        "id": "mcXyExW4vgmk"
      },
      "source": [
        "This next cell is the only code you are given to carry out the TP. This function carries out a bilinear upsampling, with which you can compare your super-resolution. This function is __not__ supposed to be used by you in your network."
      ]
    },
    {
      "cell_type": "code",
      "metadata": {
        "id": "np3Dj3tuqEqn"
      },
      "source": [
        "# choice of the interpolation method\n",
        "interp_method = 'linear'\n",
        "# upsampling factor\n",
        "delta = 2\n",
        "# the maximum number of data to take from mnist (to go a bit faster)\n",
        "n_max = 5000\n",
        "\n",
        "# upsample by a factor of delta\n",
        "# by definition, the new grid has a step size of 1/delta\n",
        "def super_res_interpolate(imgs_in,delta,interp_method = 'linear'):\n",
        "\timgs_out = tf.image.resize( tf.constant(imgs_in),\\\n",
        "\t\t[delta*imgs_in.shape[1],delta*imgs_in.shape[2]], method='bilinear').numpy()\n",
        "\n",
        "\treturn(imgs_out)\n"
      ],
      "execution_count": 2,
      "outputs": []
    },
    {
      "cell_type": "markdown",
      "metadata": {
        "id": "vLGjn0zP5h0V"
      },
      "source": [
        "## Create your super-resolution network\n",
        "\n",
        "The rest is up to you ! Import the data, format it (you can use the first part of the TP as help), create your network, train it, and compare the results with ```super_res_interpolate```.\n",
        "\n",
        "Your network should be able to achieve about $80\\%$ accuracy.\n",
        "\n",
        "__Note__ you can obviously create as many cells as you like in your work."
      ]
    },
    {
      "cell_type": "code",
      "metadata": {
        "id": "Hfx5BxeUqKf-"
      },
      "source": [
        "from keras.datasets import mnist\n",
        "(X_train, _), (X_test, _) = mnist.load_data()\n",
        "\n",
        "n_max = 5000\n",
        "X_train = X_train[0:n_max,:,:]\n",
        "X_test = X_test[0:n_max,:,:]\n"
      ],
      "execution_count": 3,
      "outputs": []
    },
    {
      "cell_type": "code",
      "metadata": {
        "id": "t8LVC4fvdSy2"
      },
      "source": [
        "# input image dimensions (mnist data is grey-level)\n",
        "img_rows, img_cols, nb_channels = X_train.shape[1], X_train.shape[2], 1\n",
        "\n",
        "# In case depth is 1 (black and white pictures) -> reshape to proper format\n",
        "X_train = X_train.reshape(X_train.shape[0], img_rows, img_cols, nb_channels)\n",
        "X_test = X_test.reshape(X_test.shape[0], img_rows, img_cols, nb_channels)\n",
        "\n",
        "X_train = X_train.astype('float32')\n",
        "X_test = X_test.astype('float32')\n",
        "X_train /= 255\n",
        "X_test /= 255\n",
        "\n",
        "Y_train =  X_train.copy()\n",
        "Y_test = X_test.copy()\n",
        "\n",
        "X_train_sub = np.zeros((X_train.shape[0],img_rows//2, img_cols//2,nb_channels))\n",
        "X_test_sub = np.zeros((X_train.shape[0],img_rows//2, img_cols//2,nb_channels))\n",
        "\n",
        "row, col = 0,0\n",
        "for i in range(img_rows//2):\n",
        "  for j in range(img_cols//2):\n",
        "    X_train_sub[:,i,j,0] = X_train[:,row,col,0]\n",
        "    X_test_sub[:,i,j,0] = X_test[:,row,col,0]\n",
        "    col +=2\n",
        "  row +=2\n",
        "  col = 0\n",
        "\n",
        "X_train = X_train_sub\n",
        "X_test = X_test_sub"
      ],
      "execution_count": 4,
      "outputs": []
    },
    {
      "cell_type": "code",
      "metadata": {
        "id": "etaRtzj6ehkX"
      },
      "source": [
        "# define model\n",
        "inputs = Input((img_rows//2, img_cols//2, nb_channels))\n",
        "x = ZeroPadding2D(padding=8)(inputs)\n",
        "x = Conv2D(64,(9, 9),activation='relu',strides=(1, 1),  padding=\"VALID\")(x)\n",
        "x = ZeroPadding2D(padding=3)(x)\n",
        "x = Conv2D(32,(5, 5),activation='relu',strides=(1, 1),  padding=\"VALID\")(x)\n",
        "x = ZeroPadding2D(padding=4)(x)\n",
        "x = Conv2D(1,(5, 5),strides=(1, 1),  padding=\"VALID\")(x)\n",
        "outputs = Reshape((28,28,1))(x)\n",
        "model = Model(inputs=inputs, outputs=outputs)"
      ],
      "execution_count": 5,
      "outputs": []
    },
    {
      "cell_type": "code",
      "metadata": {
        "id": "QvJjTR7pe9uH",
        "colab": {
          "base_uri": "https://localhost:8080/"
        },
        "outputId": "6ea97bd2-90a1-4c1d-f94a-50570e36e324"
      },
      "source": [
        "# compile, train and evaluate model\n",
        "\n",
        "learning_rate = 0.0025\n",
        "n_epochs = 10\n",
        "batch_size = 64\n",
        "\n",
        "# BEGIN STUDENT CODE\n",
        "# compile model\n",
        "model.compile(loss='mean_squared_error', optimizer=optimizers.Adam(learning_rate=learning_rate),metrics=[\"accuracy\"])\n",
        "\n",
        "# display model\n",
        "model.summary()\n",
        "\n",
        "# fit model\n",
        "model.fit(X_train, Y_train, epochs=n_epochs, batch_size=batch_size)\n",
        "\n",
        "# END STUDENT CODE\n",
        "\n",
        "score = model.evaluate(X_test, Y_test, verbose=False)\n",
        "print('Test loss:', score[0])\n",
        "print('Test accuracy:', score[1])"
      ],
      "execution_count": 6,
      "outputs": [
        {
          "output_type": "stream",
          "name": "stdout",
          "text": [
            "Model: \"model\"\n",
            "_________________________________________________________________\n",
            "Layer (type)                 Output Shape              Param #   \n",
            "=================================================================\n",
            "input_1 (InputLayer)         [(None, 14, 14, 1)]       0         \n",
            "_________________________________________________________________\n",
            "zero_padding2d (ZeroPadding2 (None, 30, 30, 1)         0         \n",
            "_________________________________________________________________\n",
            "conv2d (Conv2D)              (None, 22, 22, 64)        5248      \n",
            "_________________________________________________________________\n",
            "zero_padding2d_1 (ZeroPaddin (None, 28, 28, 64)        0         \n",
            "_________________________________________________________________\n",
            "conv2d_1 (Conv2D)            (None, 24, 24, 32)        51232     \n",
            "_________________________________________________________________\n",
            "zero_padding2d_2 (ZeroPaddin (None, 32, 32, 32)        0         \n",
            "_________________________________________________________________\n",
            "conv2d_2 (Conv2D)            (None, 28, 28, 1)         801       \n",
            "_________________________________________________________________\n",
            "reshape (Reshape)            (None, 28, 28, 1)         0         \n",
            "=================================================================\n",
            "Total params: 57,281\n",
            "Trainable params: 57,281\n",
            "Non-trainable params: 0\n",
            "_________________________________________________________________\n",
            "Epoch 1/10\n",
            "79/79 [==============================] - 3s 11ms/step - loss: 0.0557 - accuracy: 0.7989\n",
            "Epoch 2/10\n",
            "79/79 [==============================] - 1s 10ms/step - loss: 0.0346 - accuracy: 0.8043\n",
            "Epoch 3/10\n",
            "79/79 [==============================] - 1s 9ms/step - loss: 0.0296 - accuracy: 0.8068\n",
            "Epoch 4/10\n",
            "79/79 [==============================] - 1s 9ms/step - loss: 0.0269 - accuracy: 0.8082\n",
            "Epoch 5/10\n",
            "79/79 [==============================] - 1s 9ms/step - loss: 0.0251 - accuracy: 0.8090\n",
            "Epoch 6/10\n",
            "79/79 [==============================] - 1s 9ms/step - loss: 0.0237 - accuracy: 0.8095\n",
            "Epoch 7/10\n",
            "79/79 [==============================] - 1s 9ms/step - loss: 0.0228 - accuracy: 0.8099\n",
            "Epoch 8/10\n",
            "79/79 [==============================] - 1s 9ms/step - loss: 0.0218 - accuracy: 0.8103\n",
            "Epoch 9/10\n",
            "79/79 [==============================] - 1s 9ms/step - loss: 0.0211 - accuracy: 0.8106\n",
            "Epoch 10/10\n",
            "79/79 [==============================] - 1s 10ms/step - loss: 0.0207 - accuracy: 0.8107\n",
            "Test loss: 0.021459659561514854\n",
            "Test accuracy: 0.8191640377044678\n"
          ]
        }
      ]
    },
    {
      "cell_type": "code",
      "metadata": {
        "colab": {
          "base_uri": "https://localhost:8080/",
          "height": 324
        },
        "id": "OtwnxsIkUGCF",
        "outputId": "1225f6ba-0b88-41b8-e8f0-1e0c90f471d1"
      },
      "source": [
        "res = model.predict(X_test)\n",
        "plt.figure(figsize=(10, 6))\n",
        "for idx,i in enumerate(range(100,110)):\n",
        "    plt.subplot(2, 5, idx+1)\n",
        "    rand_ind = np.random.randint(0,X_test.shape[0])\n",
        "    plt.imshow(res[rand_ind,:,:,0],cmap=\"gray\")"
      ],
      "execution_count": 7,
      "outputs": [
        {
          "output_type": "display_data",
          "data": {
            "image/png": "[encoded data removed]",
            "text/plain": [
              "<Figure size 720x432 with 10 Axes>"
            ]
          },
          "metadata": {
            "needs_background": "light"
          }
        }
      ]
    },
    {
      "cell_type": "markdown",
      "metadata": {
        "id": "nssRP8NRAQtA"
      },
      "source": [
        "# Evaluation\n",
        "\n",
        "To evaluate the work, you should rate the code for \n",
        "- 1) Importing MNIST correctly (correctly formatting the data) : 1 point\n",
        "- 2) Creating a model which makes sense (correct input/output sizes) : 1 point\n",
        "- 3) Training and achieving good results  : 2 points. 1 point if the learning increases but does not reach around $80\\%$, 2 points if the learning reaches around $80\\%$\n",
        "- 4) Display a visual comparison of your network with ```super_res_interpolate``` for several examples\n",
        "\n",
        "Total over 5 points.\n"
      ]
    }
  ]
}